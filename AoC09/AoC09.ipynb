{
 "cells": [
  {
   "cell_type": "code",
   "execution_count": 56,
   "metadata": {},
   "outputs": [],
   "source": [
    "signal = [parse(Int64, s) for s in readlines(\"AoC09_data.txt\") if s!=\"\"];"
   ]
  },
  {
   "cell_type": "code",
   "execution_count": 57,
   "metadata": {},
   "outputs": [
    {
     "data": {
      "text/plain": [
       "find_mistake (generic function with 1 method)"
      ]
     },
     "execution_count": 57,
     "metadata": {},
     "output_type": "execute_result"
    }
   ],
   "source": [
    "function find_mistake(signal, preamblelength)\n",
    "    for (i,s) in enumerate(signal)\n",
    "        watchlist=signal[max(1,i-preamblelength):i-1]\n",
    "        if i>preamblelength && !(s in [a+b for a in watchlist for b in watchlist])\n",
    "            #println([a for a in signal[max(1,i-preamblelength):i-1]])\n",
    "            return (s,i)\n",
    "        end\n",
    "    end\n",
    "end"
   ]
  },
  {
   "cell_type": "code",
   "execution_count": 58,
   "metadata": {},
   "outputs": [
    {
     "data": {
      "text/plain": [
       "find_weakness (generic function with 1 method)"
      ]
     },
     "execution_count": 58,
     "metadata": {},
     "output_type": "execute_result"
    }
   ],
   "source": [
    "function find_weakness(signal, target, place)\n",
    "    for i in 1:place\n",
    "        for j in (i+1):place\n",
    "            if target==sum(signal[i:j])\n",
    "                return maximum(signal[i:j])+minimum(signal[i:j])\n",
    "            end\n",
    "        end\n",
    "    end\n",
    "end\n",
    "                "
   ]
  },
  {
   "cell_type": "code",
   "execution_count": 62,
   "metadata": {},
   "outputs": [
    {
     "data": {
      "text/plain": [
       "5407707"
      ]
     },
     "execution_count": 62,
     "metadata": {},
     "output_type": "execute_result"
    }
   ],
   "source": [
    "mistake=find_mistake(signal, 25)\n",
    "weakness = find_weakness(signal,mistake...)"
   ]
  },
  {
   "cell_type": "code",
   "execution_count": 63,
   "metadata": {},
   "outputs": [
    {
     "name": "stdout",
     "output_type": "stream",
     "text": [
      "the first false number is 50047984 at position 543\n"
     ]
    }
   ],
   "source": [
    "println(\"the first false number is \", mistake[1], \" at position \", mistake[2])"
   ]
  },
  {
   "cell_type": "code",
   "execution_count": 64,
   "metadata": {},
   "outputs": [
    {
     "name": "stdout",
     "output_type": "stream",
     "text": [
      "the encryptionweakness is  5407707\n"
     ]
    }
   ],
   "source": [
    "println(\"the encryptionweakness is  \", weakness)"
   ]
  },
  {
   "cell_type": "code",
   "execution_count": null,
   "metadata": {},
   "outputs": [],
   "source": []
  },
  {
   "cell_type": "code",
   "execution_count": null,
   "metadata": {},
   "outputs": [],
   "source": []
  }
 ],
 "metadata": {
  "kernelspec": {
   "display_name": "Julia 1.4.1",
   "language": "julia",
   "name": "julia-1.4"
  },
  "language_info": {
   "file_extension": ".jl",
   "mimetype": "application/julia",
   "name": "julia",
   "version": "1.4.1"
  }
 },
 "nbformat": 4,
 "nbformat_minor": 4
}
