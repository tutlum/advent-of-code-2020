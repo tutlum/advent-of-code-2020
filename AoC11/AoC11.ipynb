{
 "cells": [
  {
   "cell_type": "code",
   "execution_count": 29,
   "metadata": {},
   "outputs": [
    {
     "data": {
      "text/plain": [
       "readdata (generic function with 1 method)"
      ]
     },
     "execution_count": 29,
     "metadata": {},
     "output_type": "execute_result"
    }
   ],
   "source": [
    "function readdata(file)\n",
    "    room = readlines(file)\n",
    "    roomA = Array{Int8,2}(undef, length(room), length(room[1]))\n",
    "    roomB = Array{Int8,2}(undef, length(room), length(room[1]))\n",
    "    for (i,row) in enumerate(room)\n",
    "        for (j,p) in enumerate(row)\n",
    "            if (p=='.')\n",
    "                roomA[i,j]=2\n",
    "                roomB[i,j]=2 end\n",
    "            if (p=='#')\n",
    "                roomA[i,j]=1\n",
    "                roomB[i,j]=1 end\n",
    "            if (p=='L')\n",
    "                roomA[i,j]=0\n",
    "                roomB[i,j]=0 end\n",
    "        end\n",
    "    end\n",
    "    return roomA, roomB\n",
    "end"
   ]
  },
  {
   "cell_type": "code",
   "execution_count": 30,
   "metadata": {},
   "outputs": [
    {
     "data": {
      "text/plain": [
       "update (generic function with 4 methods)"
      ]
     },
     "execution_count": 30,
     "metadata": {},
     "output_type": "execute_result"
    }
   ],
   "source": [
    "# counts the occupied seats in the room and optionally prints the layout\n",
    "function countroom(rA,pri=false)\n",
    "    s=size(rA)\n",
    "    occ=0\n",
    "    for i in 1:s[1]\n",
    "        for j in 1:s[2]\n",
    "            if pri\n",
    "                if rA[i,j]==2 print('.') end\n",
    "                if rA[i,j]==0 print('L') end\n",
    "            end\n",
    "            if rA[i,j]==1\n",
    "                if pri print('#') end\n",
    "                occ+=1\n",
    "            end\n",
    "        end\n",
    "        if pri print('\\n') end\n",
    "    end\n",
    "    if pri print('\\n') end\n",
    "    return occ\n",
    "end\n",
    "\n",
    "# returns the occupied seats of arr in the direct surrounding of (ci,cj)\n",
    "function enforceRule(arr, ci, cj)\n",
    "    s=size(arr)\n",
    "    count = 0\n",
    "    for i in (ci-1):(ci+1)\n",
    "        for j in (cj-1):(cj+1)\n",
    "            if 1<=i<=s[1] && 1<=j<=s[2] && !(i==ci && j==cj) && arr[i,j]==1 count+=1 end\n",
    "        end\n",
    "    end\n",
    "    return count\n",
    "end\n",
    "\n",
    "# returns the occupied seats in direct sight (and cannot see through empty ones)\n",
    "function enforceRuleFar(arr, ci, cj)\n",
    "    s=size(arr)\n",
    "    count = 0\n",
    "    for i in (-1):(1)\n",
    "        for j in (-1):(1)\n",
    "            if !(i==0 && j==0)\n",
    "                n=1\n",
    "                while (1<=ci+i*n<=s[1] && 1<=cj+j*n<=s[2])\n",
    "                    if arr[ci+i*n,cj+j*n]==1\n",
    "                        count+=1\n",
    "                        break\n",
    "                    elseif arr[ci+i*n,cj+j*n]==0\n",
    "                        break\n",
    "                    end\n",
    "                    n+=1\n",
    "                end\n",
    "            end\n",
    "        end\n",
    "    end\n",
    "    return count\n",
    "end\n",
    "\n",
    "# updates array rB with the rules given by maxi,mini,f and returns if something has changed\n",
    "function update(rA,rB,maxi=4, mini=0,f=enforceRule)\n",
    "    update = 0\n",
    "    s=size(rA)\n",
    "    for i in 1:s[1]\n",
    "        for j in 1:s[2]\n",
    "            if rA[i,j]==0\n",
    "                if f(rA, i, j)==mini\n",
    "                    rB[i,j]=1\n",
    "                    update = 1\n",
    "                else\n",
    "                    rB[i,j]=rA[i,j]\n",
    "                end\n",
    "            elseif rA[i,j]==1\n",
    "                if f(rA, i, j)>=maxi\n",
    "                    rB[i,j]=0\n",
    "                    update = 1\n",
    "                else\n",
    "                    rB[i,j]=rA[i,j]\n",
    "                end\n",
    "            end\n",
    "        end\n",
    "    end\n",
    "    return update\n",
    "end"
   ]
  },
  {
   "cell_type": "code",
   "execution_count": 31,
   "metadata": {},
   "outputs": [
    {
     "data": {
      "text/plain": [
       "solution (generic function with 5 methods)"
      ]
     },
     "execution_count": 31,
     "metadata": {},
     "output_type": "execute_result"
    }
   ],
   "source": [
    "function solution(data=\"AoC11_data.txt\",maxi=4,mini=0,f=enforceRule)\n",
    "    roomA, roomB = readdata(data)\n",
    "    countroom(roomB,false)\n",
    "    println()\n",
    "    while update(roomA,roomB,maxi,mini,f)==1\n",
    "        #printroom(roomB)\n",
    "        (roomA,roomB)=(roomB,roomA)\n",
    "    end\n",
    "    return countroom(roomB)\n",
    "end"
   ]
  },
  {
   "cell_type": "code",
   "execution_count": 32,
   "metadata": {},
   "outputs": [
    {
     "name": "stdout",
     "output_type": "stream",
     "text": [
      "\n",
      "solution for part 1 is: 2321 occupied seats\n"
     ]
    }
   ],
   "source": [
    "println(\"solution for part 1 is: \", solution(), \" occupied seats\")"
   ]
  },
  {
   "cell_type": "code",
   "execution_count": 33,
   "metadata": {},
   "outputs": [
    {
     "name": "stdout",
     "output_type": "stream",
     "text": [
      "\n",
      "solution for part 2 is: 2102 occupied seats\n"
     ]
    }
   ],
   "source": [
    "println(\"solution for part 2 is: \", solution(\"AoC11_data.txt\",5,0,enforceRuleFar), \" occupied seats\")"
   ]
  },
  {
   "cell_type": "code",
   "execution_count": null,
   "metadata": {},
   "outputs": [],
   "source": []
  }
 ],
 "metadata": {
  "kernelspec": {
   "display_name": "Julia 1.4.1",
   "language": "julia",
   "name": "julia-1.4"
  },
  "language_info": {
   "file_extension": ".jl",
   "mimetype": "application/julia",
   "name": "julia",
   "version": "1.4.1"
  }
 },
 "nbformat": 4,
 "nbformat_minor": 4
}
