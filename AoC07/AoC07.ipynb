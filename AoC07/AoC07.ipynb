{
 "cells": [
  {
   "cell_type": "code",
   "execution_count": 134,
   "metadata": {},
   "outputs": [
    {
     "data": {
      "text/plain": [
       "build_dict (generic function with 1 method)"
      ]
     },
     "execution_count": 134,
     "metadata": {},
     "output_type": "execute_result"
    }
   ],
   "source": [
    "function build_dict(file)#\"AoC07_data_s.txt\"\n",
    "    data = readlines(file)\n",
    "    instructions = [[strip(replace(replace(replace(b,r\"bags*\"=>\"\"),\".\"=>\"\"),\"no other\"=>\"\")) for b in split(a,\"contain\")] for a in data];\n",
    "    dict = Dict()\n",
    "    target=[]\n",
    "    for instr in instructions\n",
    "        td=Dict()\n",
    "        for ent in split(instr[2],\",\")\n",
    "            tmp=split(strip(ent),\" \")\n",
    "            key=strip(join(tmp[2:end],\" \"))\n",
    "            if key!=\"\" td[key]=parse(Int32,tmp[1]) end\n",
    "        end\n",
    "        dict[instr[1]]=td\n",
    "    end\n",
    "    return dict\n",
    "end"
   ]
  },
  {
   "cell_type": "code",
   "execution_count": 135,
   "metadata": {},
   "outputs": [
    {
     "data": {
      "text/plain": [
       "findrec (generic function with 1 method)"
      ]
     },
     "execution_count": 135,
     "metadata": {},
     "output_type": "execute_result"
    }
   ],
   "source": [
    "# find a given bag in other bags and put the container bags into the list\n",
    "function findrec(query, dict, list)\n",
    "    for e in keys(dict)\n",
    "        if query in keys(dict[e])\n",
    "            #println(e, \": \", dict[e][query])\n",
    "            if !(e in list)\n",
    "                push!(list,e)\n",
    "                findrec(e,dict,list)\n",
    "            end\n",
    "        end\n",
    "    end\n",
    "end\n"
   ]
  },
  {
   "cell_type": "code",
   "execution_count": 136,
   "metadata": {},
   "outputs": [
    {
     "data": {
      "text/plain": [
       "count_bags (generic function with 1 method)"
      ]
     },
     "execution_count": 136,
     "metadata": {},
     "output_type": "execute_result"
    }
   ],
   "source": [
    "#counts the bags including given bag\n",
    "function count_bags(query, dict)\n",
    "    #println(dict[query])\n",
    "    if length(keys(dict[query]))==0 return 1 end\n",
    "    return 1+sum([(dict[query][k]*count_bags(k,dict)) for k in keys(dict[query])])\n",
    "end"
   ]
  },
  {
   "cell_type": "code",
   "execution_count": 140,
   "metadata": {},
   "outputs": [],
   "source": [
    "query=\"shiny gold\"\n",
    "dict = build_dict(\"AoC07_data.txt\");"
   ]
  },
  {
   "cell_type": "code",
   "execution_count": 141,
   "metadata": {},
   "outputs": [
    {
     "name": "stdout",
     "output_type": "stream",
     "text": [
      "number of ways: 296\n"
     ]
    }
   ],
   "source": [
    "list=[]\n",
    "findrec(query, dict, list)\n",
    "println(\"number of ways: \", length(list))"
   ]
  },
  {
   "cell_type": "code",
   "execution_count": 142,
   "metadata": {},
   "outputs": [
    {
     "name": "stdout",
     "output_type": "stream",
     "text": [
      "Inside the 'shiny gold' you need 9339 bags.\n"
     ]
    }
   ],
   "source": [
    "# starting bag is counted thus -1\n",
    "println(\"Inside the '\",query,\"' you need \",count_bags(query, dict)-1,\" bags.\")"
   ]
  },
  {
   "cell_type": "code",
   "execution_count": null,
   "metadata": {},
   "outputs": [],
   "source": []
  }
 ],
 "metadata": {
  "kernelspec": {
   "display_name": "Julia 1.4.1",
   "language": "julia",
   "name": "julia-1.4"
  },
  "language_info": {
   "file_extension": ".jl",
   "mimetype": "application/julia",
   "name": "julia",
   "version": "1.4.1"
  }
 },
 "nbformat": 4,
 "nbformat_minor": 4
}
