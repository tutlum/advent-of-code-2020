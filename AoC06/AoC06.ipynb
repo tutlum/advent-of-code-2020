{
 "cells": [
  {
   "cell_type": "code",
   "execution_count": 21,
   "metadata": {},
   "outputs": [
    {
     "data": {
      "text/plain": [
       "readdata (generic function with 1 method)"
      ]
     },
     "execution_count": 21,
     "metadata": {},
     "output_type": "execute_result"
    }
   ],
   "source": [
    "# read data\n",
    "function readdata(file)\n",
    "    batch = open(file) do file\n",
    "        read(file, String)\n",
    "    end\n",
    "    return split(batch,\"\\n\\n\")\n",
    "end"
   ]
  },
  {
   "cell_type": "code",
   "execution_count": 41,
   "metadata": {},
   "outputs": [
    {
     "name": "stdout",
     "output_type": "stream",
     "text": [
      "part1: 6551\n"
     ]
    }
   ],
   "source": [
    "# solution to part 1 (anyone):\n",
    "println(\"part1: \",\n",
    "sum([length(Set(replace(a,\"\\n\"=>\"\"))) for a in readdata(\"AoC06_data.txt\")]))"
   ]
  },
  {
   "cell_type": "code",
   "execution_count": 42,
   "metadata": {},
   "outputs": [
    {
     "name": "stdout",
     "output_type": "stream",
     "text": [
      "part2: 3358\n"
     ]
    }
   ],
   "source": [
    "# solution to part 1 (anyone):\n",
    "println(\"part2: \",\n",
    "sum([length(intersect([Set(b) for b in split(strip(a),\"\\n\")]...)) for a in readdata(\"AoC06_data.txt\")]))"
   ]
  },
  {
   "cell_type": "code",
   "execution_count": null,
   "metadata": {},
   "outputs": [],
   "source": []
  }
 ],
 "metadata": {
  "kernelspec": {
   "display_name": "Julia 1.4.1",
   "language": "julia",
   "name": "julia-1.4"
  },
  "language_info": {
   "file_extension": ".jl",
   "mimetype": "application/julia",
   "name": "julia",
   "version": "1.4.1"
  }
 },
 "nbformat": 4,
 "nbformat_minor": 4
}
