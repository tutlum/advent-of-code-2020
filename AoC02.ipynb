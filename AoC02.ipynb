{
 "cells": [
  {
   "cell_type": "markdown",
   "metadata": {
    "scrolled": true
   },
   "source": [
    "# AoC day 2 part 1"
   ]
  },
  {
   "cell_type": "code",
   "execution_count": 1,
   "metadata": {},
   "outputs": [],
   "source": [
    "tmp = readlines(\"AoC02_data.txt\")\n",
    "data=[split(a,\" \") for a in tmp]\n",
    "password=[a[3] for a in data]\n",
    "criteria=[a[2][1] for a in data]\n",
    "minmax=[[parse(Int32,b) for b in split(a[1],\"-\")] for a in data];"
   ]
  },
  {
   "cell_type": "code",
   "execution_count": 4,
   "metadata": {},
   "outputs": [
    {
     "name": "stdout",
     "output_type": "stream",
     "text": [
      "398 of 1000"
     ]
    }
   ],
   "source": [
    "count=0\n",
    "for (i,pw) in enumerate(password)\n",
    "    tmp = split(pw,criteria[i])\n",
    "    if minmax[i][1] <= length(tmp)-1 <=minmax[i][2]\n",
    "        count+=1\n",
    "        #print(minmax[i],\" \",criteria[i],\" \",pw,\"\\n\")\n",
    "    end\n",
    "end\n",
    "print(\"solution part 1: \", count, \" of \", length(password))"
   ]
  },
  {
   "cell_type": "markdown",
   "metadata": {},
   "source": [
    "# AoC day 2 part 1"
   ]
  },
  {
   "cell_type": "code",
   "execution_count": 3,
   "metadata": {},
   "outputs": [
    {
     "name": "stdout",
     "output_type": "stream",
     "text": [
      "562 of 1000"
     ]
    }
   ],
   "source": [
    "count=0\n",
    "for (i,pw) in enumerate(password)\n",
    "    if (pw[minmax[i][1]] == criteria[i])\n",
    "        if (pw[minmax[i][2]] != criteria[i])\n",
    "            count+=1\n",
    "        end\n",
    "    elseif (pw[minmax[i][2]] == criteria[i])\n",
    "        count+=1\n",
    "    end    \n",
    "end\n",
    "print(\"solution part 1: \", count, \" of \", length(password))"
   ]
  },
  {
   "cell_type": "code",
   "execution_count": null,
   "metadata": {},
   "outputs": [],
   "source": []
  }
 ],
 "metadata": {
  "kernelspec": {
   "display_name": "Julia 1.4.1",
   "language": "julia",
   "name": "julia-1.4"
  },
  "language_info": {
   "file_extension": ".jl",
   "mimetype": "application/julia",
   "name": "julia",
   "version": "1.4.1"
  }
 },
 "nbformat": 4,
 "nbformat_minor": 4
}
