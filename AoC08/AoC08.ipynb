{
 "cells": [
  {
   "cell_type": "code",
   "execution_count": 1,
   "metadata": {},
   "outputs": [
    {
     "data": {
      "text/plain": [
       "runcode (generic function with 2 methods)"
      ]
     },
     "execution_count": 1,
     "metadata": {},
     "output_type": "execute_result"
    }
   ],
   "source": [
    "# toggle the \"correct\"-th jmp/nop command\n",
    "function runcode(commands, correct=0)\n",
    "    acc=0\n",
    "    visited=Dict{Int32,Bool}()\n",
    "    i=1\n",
    "    infinite=false\n",
    "    jmpnop_n=0\n",
    "    while (i<=length(commands))\n",
    "        if haskey(visited, i)\n",
    "            infinite=true\n",
    "            break\n",
    "        end\n",
    "        visited[i]=true\n",
    "        comm=commands[i][1]\n",
    "        # correction\n",
    "        if (correct!=0 && (comm==\"jmp\" || comm==\"nop\"))\n",
    "            jmpnop_n+=1\n",
    "            if correct==jmpnop_n\n",
    "                #println(jmpnop_n, \" \", i, \" \", commands[i])\n",
    "                if (comm==\"jmp\") comm=\"nop\" else comm=\"jmp\" end\n",
    "            end\n",
    "        end\n",
    "        #println(commands[i])\n",
    "        if (comm==\"acc\")\n",
    "            acc+=parse(Int32,commands[i][2])\n",
    "            i+=1\n",
    "        elseif (comm==\"jmp\")\n",
    "            i+=parse(Int32,commands[i][2])\n",
    "        elseif (comm==\"nop\")\n",
    "            i+=1\n",
    "        end\n",
    "    end\n",
    "    return [infinite,acc]\n",
    "end"
   ]
  },
  {
   "cell_type": "code",
   "execution_count": 2,
   "metadata": {},
   "outputs": [
    {
     "data": {
      "text/plain": [
       "num_of_jmp (generic function with 1 method)"
      ]
     },
     "execution_count": 2,
     "metadata": {},
     "output_type": "execute_result"
    }
   ],
   "source": [
    "function num_of_jmp(commands)\n",
    "    n=0\n",
    "    for comm in commands\n",
    "        if comm[1]==\"jmp\" || comm[1]==\"nop\"\n",
    "            n+=1\n",
    "        end\n",
    "    end\n",
    "    return n\n",
    "end"
   ]
  },
  {
   "cell_type": "code",
   "execution_count": 3,
   "metadata": {},
   "outputs": [
    {
     "name": "stdout",
     "output_type": "stream",
     "text": [
      "uncorrected solution: acc=1818\n",
      "change 24th command\n",
      "infinite: 0, acc=631\n"
     ]
    }
   ],
   "source": [
    "commands = [split(a, \" \") for a in readlines(\"AoC08_data.txt\")]\n",
    "jumps=num_of_jmp(commands)\n",
    "result=runcode(commands)\n",
    "println(\"uncorrected solution: acc=\", result[2])\n",
    "infinite=true\n",
    "ch_n=0\n",
    "while infinite==1\n",
    "    if ch_n>jumps break end\n",
    "    result=runcode(commands,ch_n)\n",
    "    infinite=result[1]\n",
    "    if infinite==0\n",
    "        println(\"change \", ch_n, \"th command\")\n",
    "        break\n",
    "    end\n",
    "    ch_n+=1\n",
    "end\n",
    "println(\"infinite: \", result[1], \", acc=\",result[2])"
   ]
  },
  {
   "cell_type": "code",
   "execution_count": null,
   "metadata": {},
   "outputs": [],
   "source": []
  },
  {
   "cell_type": "code",
   "execution_count": null,
   "metadata": {},
   "outputs": [],
   "source": []
  }
 ],
 "metadata": {
  "kernelspec": {
   "display_name": "Julia 1.4.1",
   "language": "julia",
   "name": "julia-1.4"
  },
  "language_info": {
   "file_extension": ".jl",
   "mimetype": "application/julia",
   "name": "julia",
   "version": "1.4.1"
  }
 },
 "nbformat": 4,
 "nbformat_minor": 4
}
