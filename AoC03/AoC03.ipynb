{
 "cells": [
  {
   "cell_type": "code",
   "execution_count": 1,
   "metadata": {},
   "outputs": [
    {
     "data": {
      "text/plain": [
       "count_trees (generic function with 1 method)"
      ]
     },
     "execution_count": 1,
     "metadata": {},
     "output_type": "execute_result"
    }
   ],
   "source": [
    "function count_trees(forest,dx,dy)\n",
    "    width = length(forest[1])\n",
    "    trees = 0\n",
    "    #print(res[1],\"\\n\")\n",
    "    if forest[1][1] == '#'\n",
    "        trees=1\n",
    "    end\n",
    "    step=1\n",
    "    while dy*step+1<=length(forest)\n",
    "        #print(dy*step+1,\"\\n\")\n",
    "        x=((dx*step)%width)+1\n",
    "        y=dy*step+1\n",
    "        #print(res[y],\"\\n\")\n",
    "        #print(\" \"^(x-1),\"^\",\" \"^(width-x))\n",
    "        if forest[y][x] == '#'\n",
    "            trees+=1\n",
    "            #print(\" \",trees)\n",
    "        end\n",
    "        #print(\"\\n\")\n",
    "        step+=1\n",
    "    end\n",
    "    return trees\n",
    "end"
   ]
  },
  {
   "cell_type": "code",
   "execution_count": 2,
   "metadata": {},
   "outputs": [
    {
     "name": "stdout",
     "output_type": "stream",
     "text": [
      "solution part 1: 205\n"
     ]
    }
   ],
   "source": [
    "forest = readlines(\"AoC03_data.txt\")\n",
    "print(\"solution part 1: \",count_trees(forest,3,1),\"\\n\")"
   ]
  },
  {
   "cell_type": "code",
   "execution_count": 3,
   "metadata": {},
   "outputs": [
    {
     "name": "stdout",
     "output_type": "stream",
     "text": [
      "solution part 2: 3952146825\n"
     ]
    }
   ],
   "source": [
    "slopes=[(1,1),(3,1),(5,1),(7,1),(1,2)]\n",
    "multiplied_trees=reduce(*,map(d -> count_trees(forest,d[1],d[2]),slopes))\n",
    "print(\"solution part 2: \",multiplied_trees,\"\\n\")\n",
    "#map(x -> s[x[1]:x[2]], slopes)#test"
   ]
  },
  {
   "cell_type": "code",
   "execution_count": null,
   "metadata": {},
   "outputs": [],
   "source": []
  }
 ],
 "metadata": {
  "kernelspec": {
   "display_name": "Julia 1.4.1",
   "language": "julia",
   "name": "julia-1.4"
  },
  "language_info": {
   "file_extension": ".jl",
   "mimetype": "application/julia",
   "name": "julia",
   "version": "1.4.1"
  }
 },
 "nbformat": 4,
 "nbformat_minor": 4
}
