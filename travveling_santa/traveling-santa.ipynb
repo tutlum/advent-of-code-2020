{
 "cells": [
  {
   "cell_type": "code",
   "execution_count": 97,
   "metadata": {},
   "outputs": [],
   "source": [
    "raw=readlines(\"nicelist.txt\") # from https://traveling-santa.reaktor.com/nicelist.txt\n",
    "data = [split(a,\";\") for a in raw]\n",
    "id = [parse(Int32,a[1]) for a in data]\n",
    "coord = [[parse(Float64,a[2])/pi,parse(Float64,a[3])/pi] for a in data]\n",
    "weight = [parse(Int32,a[4]) for a in data];\n",
    "used = falses(length(weight))\n",
    "used[10]=true\n",
    "radius=6378\n",
    "origin=[68.073611, 29.315278]\n",
    "maxweight=10000*1000;"
   ]
  },
  {
   "cell_type": "code",
   "execution_count": 68,
   "metadata": {},
   "outputs": [
    {
     "data": {
      "text/plain": [
       "dsigma (generic function with 1 method)"
      ]
     },
     "execution_count": 68,
     "metadata": {},
     "output_type": "execute_result"
    }
   ],
   "source": [
    "function dsigma(p1,p2,dl)\n",
    "    f1=(cos(p2)*sin(dl))^2\n",
    "    f2=(cos(p1)*sin(p2)-sin(p1)*cos(p2)*cos(dl))^2\n",
    "    f3=sin(p1)*sin(p2)+cos(p1)*cos(p2)*cos(dl)\n",
    "    return atan(sqrt(f1+f2)/f3)\n",
    "end"
   ]
  },
  {
   "cell_type": "code",
   "execution_count": 57,
   "metadata": {},
   "outputs": [],
   "source": [
    "using DistributedArrays\n",
    "#distmatrix=radius*[[abs(dsigma(a[1],b[1],a[2]-b[2])) for a in coord] for b in coord];\n",
    "distmatrix=@DArray [radius*abs(dsigma(a[1],b[1],a[2]-b[2])) for a in coord, b in coord];\n"
   ]
  },
  {
   "cell_type": "code",
   "execution_count": 59,
   "metadata": {},
   "outputs": [
    {
     "data": {
      "text/plain": [
       "0.0"
      ]
     },
     "execution_count": 59,
     "metadata": {},
     "output_type": "execute_result"
    }
   ],
   "source": [
    "function nearest(weight,used,index)\n",
    "    return 0\n",
    "end"
   ]
  },
  {
   "cell_type": "code",
   "execution_count": 92,
   "metadata": {},
   "outputs": [
    {
     "data": {
      "text/plain": [
       "DArray{Float64,2,Array{Float64,2}}"
      ]
     },
     "execution_count": 92,
     "metadata": {},
     "output_type": "execute_result"
    }
   ],
   "source": [
    "typeof(distmatrix)"
   ]
  },
  {
   "cell_type": "code",
   "execution_count": 66,
   "metadata": {},
   "outputs": [
    {
     "name": "stdout",
     "output_type": "stream",
     "text": [
      "2.1279376777160633e7\n"
     ]
    }
   ],
   "source": [
    "# average weight\n",
    "weight_avg = sum(weight)/length(weight)\n",
    "min_tours = ceil(sum(weight)/maxweight)\n",
    "visits_avg = maxweight/weight_avg\n",
    "avg_worst_length=2*pi*radius*min_tours\n",
    "println(avg_worst_length)"
   ]
  },
  {
   "cell_type": "code",
   "execution_count": null,
   "metadata": {},
   "outputs": [],
   "source": []
  }
 ],
 "metadata": {
  "kernelspec": {
   "display_name": "Julia 1.4.1",
   "language": "julia",
   "name": "julia-1.4"
  },
  "language_info": {
   "file_extension": ".jl",
   "mimetype": "application/julia",
   "name": "julia",
   "version": "1.4.1"
  }
 },
 "nbformat": 4,
 "nbformat_minor": 4
}
