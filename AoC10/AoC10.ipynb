{
 "cells": [
  {
   "cell_type": "code",
   "execution_count": 41,
   "metadata": {},
   "outputs": [],
   "source": [
    "adapters = [0] # add start\n",
    "append!(adapters,sort([parse(Int32,a) for a in readlines(\"AoC10_data.txt\")]))\n",
    "push!(adapters,adapters[end]+3); # add end"
   ]
  },
  {
   "cell_type": "code",
   "execution_count": 42,
   "metadata": {},
   "outputs": [
    {
     "name": "stdout",
     "output_type": "stream",
     "text": [
      "Dict(3 => 30,1 => 70)\n"
     ]
    }
   ],
   "source": [
    "dict=Dict(1=>0,3=>0)\n",
    "# calculate differences\n",
    "diffs = [adapters[i]-adapters[i-1] for i in 2:length(adapters)]\n",
    "for e in diffs\n",
    "    dict[e]+=1\n",
    "end\n",
    "println(\"quantities: \", dict)"
   ]
  },
  {
   "cell_type": "code",
   "execution_count": 43,
   "metadata": {},
   "outputs": [
    {
     "name": "stdout",
     "output_type": "stream",
     "text": [
      "Solution is: 2100\n"
     ]
    }
   ],
   "source": [
    "println(\"Solution is: \", dict[1]*dict[3])"
   ]
  },
  {
   "cell_type": "code",
   "execution_count": 102,
   "metadata": {},
   "outputs": [
    {
     "data": {
      "text/plain": [
       "countpossible (generic function with 1 method)"
      ]
     },
     "execution_count": 102,
     "metadata": {},
     "output_type": "execute_result"
    }
   ],
   "source": [
    "# stupid recursive function ...\n",
    "function countpossible(list, index, maxstep)\n",
    "    #return 0\n",
    "    anz=0\n",
    "    for i in (index+1):min(index+maxstep,length(list)-1)\n",
    "        if list[i]-list[index]<=maxstep\n",
    "            if i==length(list)-1\n",
    "                return anz+1\n",
    "            end\n",
    "            anz+=countpossible(list, i, maxstep)\n",
    "        else\n",
    "            return anz\n",
    "        end\n",
    "    end\n",
    "    return anz\n",
    "end"
   ]
  },
  {
   "cell_type": "code",
   "execution_count": 45,
   "metadata": {},
   "outputs": [],
   "source": [
    "# count connected blocks of 1s with length >1\n",
    "# because we know how many different combinations are threre for blocks longer then 1\n",
    "# every shorter block only produces one possibility"
   ]
  },
  {
   "cell_type": "code",
   "execution_count": 46,
   "metadata": {},
   "outputs": [
    {
     "data": {
      "text/plain": [
       "Dict{Int64,Int64} with 4 entries:\n",
       "  4 => 7\n",
       "  2 => 2\n",
       "  3 => 4\n",
       "  5 => 11"
      ]
     },
     "execution_count": 46,
     "metadata": {},
     "output_type": "execute_result"
    }
   ],
   "source": [
    "function getblocks(diffs)\n",
    "    ind=1\n",
    "    blocks=[]\n",
    "    while ind<length(diffs)\n",
    "        if (diffs[ind]==1)\n",
    "            count=0\n",
    "            while diffs[ind]==1\n",
    "                count+=1\n",
    "                ind+=1\n",
    "            end\n",
    "            if count>1 push!(blocks,count) end\n",
    "            continue\n",
    "        end\n",
    "        ind+=1\n",
    "    end\n",
    "    return blocks\n",
    "end\n",
    "# we only need until blocksize 4 ... so no further thoughts\n",
    "multiply = Dict(2=>2,3=>4,4=>7,5=>11);"
   ]
  },
  {
   "cell_type": "code",
   "execution_count": 104,
   "metadata": {},
   "outputs": [
    {
     "name": "stdout",
     "output_type": "stream",
     "text": [
      "there are 16198260678656 possible adapter combinations\n"
     ]
    }
   ],
   "source": [
    "getblocks(diffs)\n",
    "println(\"there are \", reduce(*,map(x->multiply[x],getblocks(diffs))), \" possible adapter combinations\")"
   ]
  }
 ],
 "metadata": {
  "kernelspec": {
   "display_name": "Julia 1.4.1",
   "language": "julia",
   "name": "julia-1.4"
  },
  "language_info": {
   "file_extension": ".jl",
   "mimetype": "application/julia",
   "name": "julia",
   "version": "1.4.1"
  }
 },
 "nbformat": 4,
 "nbformat_minor": 4
}
