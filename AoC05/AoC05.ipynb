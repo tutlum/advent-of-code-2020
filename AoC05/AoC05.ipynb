{
 "cells": [
  {
   "cell_type": "code",
   "execution_count": 25,
   "metadata": {},
   "outputs": [
    {
     "name": "stdout",
     "output_type": "stream",
     "text": [
      "Int32[44, 5]\n"
     ]
    }
   ],
   "source": [
    "function codetonumber(code)\n",
    "    return [parse(Int32,replace(replace(code[1:7],\"F\"=>\"0\"),\"B\"=>\"1\"),base=2),parse(Int32,replace(replace(code[8:10],\"L\"=>\"0\"),\"R\"=>\"1\"),base=2)]\n",
    "end\n",
    "println(codetonumber(\"FBFBBFFRLR\"))#passt\n",
    "data=[codetonumber(a) for a in readlines(\"AoC05_data.txt\")]\n",
    "ids=[a[1]*8+a[2] for a in data];"
   ]
  },
  {
   "cell_type": "code",
   "execution_count": 26,
   "metadata": {},
   "outputs": [
    {
     "name": "stdout",
     "output_type": "stream",
     "text": [
      "highest id: 896\n"
     ]
    }
   ],
   "source": [
    "println(\"highest id: \", maximum(ids))"
   ]
  },
  {
   "cell_type": "code",
   "execution_count": 27,
   "metadata": {},
   "outputs": [
    {
     "name": "stdout",
     "output_type": "stream",
     "text": [
      "my seat: 659\n"
     ]
    }
   ],
   "source": [
    "for id in (minimum(ids)+1):(maximum(ids)-1)\n",
    "    if !(id in ids) && ((id-1) in ids) && ((id+1) in ids)\n",
    "        println(\"my seat: \", id)\n",
    "        break\n",
    "    end\n",
    "end"
   ]
  },
  {
   "cell_type": "code",
   "execution_count": null,
   "metadata": {},
   "outputs": [],
   "source": []
  }
 ],
 "metadata": {
  "kernelspec": {
   "display_name": "Julia 1.4.1",
   "language": "julia",
   "name": "julia-1.4"
  },
  "language_info": {
   "file_extension": ".jl",
   "mimetype": "application/julia",
   "name": "julia",
   "version": "1.4.1"
  }
 },
 "nbformat": 4,
 "nbformat_minor": 4
}
