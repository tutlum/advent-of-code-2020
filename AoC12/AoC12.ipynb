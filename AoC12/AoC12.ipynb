{
 "cells": [
  {
   "cell_type": "code",
   "execution_count": 500,
   "metadata": {},
   "outputs": [],
   "source": [
    "#using InfiniteArrays, LinearAlgebra\n",
    "data = readlines(\"AoC12_data.txt\")\n",
    "mytime=parse(Int64,data[1])\n",
    "#data[2]=\"1789,37,47,1889\"\n",
    "ids=[parse(Int64,x) for x in split(replace(data[2],'x'=>'0'),\",\")];"
   ]
  },
  {
   "cell_type": "code",
   "execution_count": 501,
   "metadata": {},
   "outputs": [],
   "source": [
    "valid_sorted=sort([[id,id-mytime%id] for id in ids if id!=0],lt=(a,b)->a[2]<b[2]);"
   ]
  },
  {
   "cell_type": "code",
   "execution_count": 502,
   "metadata": {},
   "outputs": [
    {
     "name": "stdout",
     "output_type": "stream",
     "text": [
      "the multiplied result of [863, 5] is: 4315\n"
     ]
    }
   ],
   "source": [
    "println(\"the multiplied result of \",valid_sorted[1], \" is: \",valid_sorted[1][1]*valid_sorted[1][2])"
   ]
  },
  {
   "cell_type": "code",
   "execution_count": 503,
   "metadata": {},
   "outputs": [
    {
     "data": {
      "text/plain": [
       "1580321160029833"
      ]
     },
     "execution_count": 503,
     "metadata": {},
     "output_type": "execute_result"
    }
   ],
   "source": [
    "prod([i for i in ids if i!=0])"
   ]
  },
  {
   "cell_type": "code",
   "execution_count": 504,
   "metadata": {},
   "outputs": [
    {
     "data": {
      "text/plain": [
       "validsfor (generic function with 3 methods)"
      ]
     },
     "execution_count": 504,
     "metadata": {},
     "output_type": "execute_result"
    }
   ],
   "source": [
    "function isdiv(poses,n)\n",
    "    for i in 1:(length(poses)-1)\n",
    "        r=(poses[1][2]*n+(poses[i+1][1]-poses[1][1]))%poses[i+1][2]\n",
    "        #if r!=0 return [poses[i+1][2]-r,r÷(poses[i+1][1]-poses[1][1]+1),poses[i+1][2],(poses[i+1][1]-poses[1][1]+1)] end\n",
    "        if r!=0 return [poses[i+1][2]-r,r÷(poses[i+1][1]-poses[1][1])] end\n",
    "    end\n",
    "    return [0]\n",
    "    #return sum([(poses[1][2]*n+(poses[i+1][1]-poses[1][1]))%poses[i+1][2] for i in 1:(length(poses)-1)])\n",
    "end\n",
    "# there has to be a better way ...\n",
    "function validsfor(id_list,min,max,pos1,poses)\n",
    "    #[[n,(ids[1]*n+1)÷ids[2],ids[1]*n,ids[1]*n+1] for n in 1:1000 if (ids[1]*n+1)%ids[2]==0]\n",
    "    n=min\n",
    "    while n<=max\n",
    "        r=isdiv(poses,n)\n",
    "        \n",
    "        #println(r,\" \",n)\n",
    "        if r[1]==0\n",
    "            return [poses[1][2]*n-(poses[1][1]-1),n]\n",
    "            #n+=1\n",
    "        elseif r[2]<=1 n+=1\n",
    "        else n+=r[2]+1\n",
    "        end\n",
    "        #n+=1\n",
    "    end\n",
    "    return -1\n",
    "    #return [poses[1][2]*n-(poses[1][1]-1) for n in valid_bases if isdiv(poses,n)==0][1]\n",
    "end\n",
    "#sum([(id_list[pos1]*n+(pos[i+1]-pos1))%id_list[pos[i+1]] for i in 2:(length(l)-1)]"
   ]
  },
  {
   "cell_type": "code",
   "execution_count": null,
   "metadata": {},
   "outputs": [],
   "source": [
    "dict=Dict()\n",
    "l=[]\n",
    "for (i,id) in enumerate(ids)\n",
    "    if id!=0\n",
    "        dict[i]=id\n",
    "        push!(l,[i,id])\n",
    "    end\n",
    "end\n",
    "l=sort(l,rev=true,lt=(a,b)->a[2]<b[2])\n",
    "println(l)\n",
    "start=100000000000000/l[1][2]\n",
    "valids=validsfor(ids,start,start*2,l[1][1],l)\n",
    "#valids=validsfor(ids,start:(2*start),l[1][1],l)\n",
    "#println(length(l))\n",
    "#println([((valids[1]+(l[i][1]-1))/l[i][2]) for i in 1:length(l)])\n",
    "println(valids)"
   ]
  },
  {
   "cell_type": "code",
   "execution_count": 482,
   "metadata": {},
   "outputs": [
    {
     "name": "stdout",
     "output_type": "stream",
     "text": [
      "15\n",
      "30\n"
     ]
    }
   ],
   "source": [
    "println((3*11)%18)\n",
    "println(41*3%31)"
   ]
  },
  {
   "cell_type": "code",
   "execution_count": null,
   "metadata": {},
   "outputs": [],
   "source": []
  }
 ],
 "metadata": {
  "kernelspec": {
   "display_name": "Julia 1.4.1",
   "language": "julia",
   "name": "julia-1.4"
  },
  "language_info": {
   "file_extension": ".jl",
   "mimetype": "application/julia",
   "name": "julia",
   "version": "1.4.1"
  }
 },
 "nbformat": 4,
 "nbformat_minor": 4
}
