{
 "cells": [
  {
   "cell_type": "code",
   "execution_count": 5,
   "metadata": {},
   "outputs": [],
   "source": []
  },
  {
   "cell_type": "code",
   "execution_count": 28,
   "metadata": {},
   "outputs": [
    {
     "data": {
      "text/plain": [
       "folow_way (generic function with 1 method)"
      ]
     },
     "execution_count": 28,
     "metadata": {},
     "output_type": "execute_result"
    }
   ],
   "source": [
    "#       N(0)\n",
    "#        |\n",
    "# W(270)---E(90)\n",
    "#        |\n",
    "#      S(180)\n",
    "# ship=Dict('N'=>0,'E'=>0,'D'=>0)\n",
    "function calc_pos(ship,instructions)\n",
    "    for (c,v) in instructions\n",
    "        if c=='N' ship['N']+=v\n",
    "        elseif c=='E' ship['E']+=v\n",
    "        elseif c=='S' ship['N']-=v\n",
    "        elseif c=='W' ship['E']-=v\n",
    "\n",
    "        elseif c=='L' ship['D']=(ship['D']-v+360)%360\n",
    "        elseif c=='R' ship['D']=(ship['D']+v)%360\n",
    "\n",
    "        elseif c=='F'\n",
    "            if ship['D']==0 ship['N']+=v\n",
    "            elseif ship['D']==90 ship['E']+=v\n",
    "            elseif ship['D']==180 ship['N']-=v\n",
    "            elseif ship['D']==270 ship['E']-=v\n",
    "            end\n",
    "        end\n",
    "    end\n",
    "end\n",
    "# ship=Dict('N'=>0,'E'=>0), waypoint=Dict('N'=>0,'E'=>0)\n",
    "function folow_way(ship,waypoint,instructions)\n",
    "    for (c,v) in instructions\n",
    "        if c=='N' waypoint['N']+=v\n",
    "        elseif c=='E' waypoint['E']+=v\n",
    "        elseif c=='S' waypoint['N']-=v\n",
    "        elseif c=='W' waypoint['E']-=v\n",
    "\n",
    "        elseif c=='L' || c=='R'\n",
    "            v2=v\n",
    "            if c=='R' v2=360-v end\n",
    "            if v2==90 (waypoint['E'],waypoint['N'])=(-waypoint['N'],waypoint['E'])\n",
    "            elseif v2==180 (waypoint['E'],waypoint['N'])=(-waypoint['E'],-waypoint['N'])\n",
    "            elseif v2==270 (waypoint['E'],waypoint['N'])=(waypoint['N'],-waypoint['E'])\n",
    "            end\n",
    "\n",
    "        elseif c=='F'\n",
    "            ship['E']+=v*waypoint['E']\n",
    "            ship['N']+=v*waypoint['N']\n",
    "        end\n",
    "    end\n",
    "end"
   ]
  },
  {
   "cell_type": "code",
   "execution_count": 31,
   "metadata": {},
   "outputs": [
    {
     "name": "stdout",
     "output_type": "stream",
     "text": [
      "solution part 1: Dict('D' => 90,'E' => -236,'N' => -209) hash: 445\n"
     ]
    }
   ],
   "source": [
    "data = readlines(\"AoC12_data.txt\")\n",
    "instructions=[(a[1],parse(Int32,a[2:end])) for a in data];\n",
    "dict = Dict('N'=>0,'E'=>0,'D'=>90)\n",
    "calc_pos(dict,instructions)\n",
    "println(\"solution part 1: \",dict, \" hash: \",abs(dict['N'])+abs(dict['E']))"
   ]
  },
  {
   "cell_type": "code",
   "execution_count": 32,
   "metadata": {},
   "outputs": [
    {
     "name": "stdout",
     "output_type": "stream",
     "text": [
      "solution part 2: Dict('E' => 36873,'N' => -5622) hash: 42495\n"
     ]
    }
   ],
   "source": [
    "waypoint = Dict('N'=>1,'E'=>10)\n",
    "ship = Dict('N'=>0,'E'=>0)\n",
    "folow_way(ship,waypoint,instructions)\n",
    "println(\"solution part 2: \",ship, \" hash: \",abs(ship['N'])+abs(ship['E']))"
   ]
  },
  {
   "cell_type": "code",
   "execution_count": null,
   "metadata": {},
   "outputs": [],
   "source": []
  }
 ],
 "metadata": {
  "kernelspec": {
   "display_name": "Julia 1.4.1",
   "language": "julia",
   "name": "julia-1.4"
  },
  "language_info": {
   "file_extension": ".jl",
   "mimetype": "application/julia",
   "name": "julia",
   "version": "1.4.1"
  }
 },
 "nbformat": 4,
 "nbformat_minor": 4
}
