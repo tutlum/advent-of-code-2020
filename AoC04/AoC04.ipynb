{
 "cells": [
  {
   "cell_type": "code",
   "execution_count": 51,
   "metadata": {},
   "outputs": [],
   "source": [
    "# functions and data to validate\n",
    "# fields\n",
    "needed=[\"byr\",\"iyr\",\"eyr\",\"hgt\",\"hcl\",\"ecl\",\"pid\"]\n",
    "optional=[\"cid\"]\n",
    "\n",
    "# fieldvalidation\n",
    "function height(expr)\n",
    "    unit=expr[length(expr)-1:length(expr)]\n",
    "    if unit==\"cm\"\n",
    "        return 150<=parse(Int32,expr[1:length(expr)-2])<=193\n",
    "    elseif unit==\"in\"\n",
    "        return 59<=parse(Int32,expr[1:length(expr)-2])<=76\n",
    "    else\n",
    "        return false\n",
    "    end\n",
    "end\n",
    "\n",
    "# validationfunctions\n",
    "validation = Dict(\"byr\"=>x->1920<=parse(Int32,x)<=2002,\n",
    "    \"iyr\"=>x->2010<=parse(Int32,x)<=2020,\n",
    "\"eyr\"=>x->2020<=parse(Int32,x)<=2030,\n",
    "\"hgt\"=>x->height(x),\n",
    "\"hcl\"=>x->match(r\"^#([0-9]|[a-f]){6}$\",x)!=nothing,\n",
    "\"ecl\"=>x->x in [\"amb\", \"blu\", \"brn\", \"gry\", \"grn\", \"hzl\", \"oth\"],\n",
    "\"pid\"=>x->match(r\"^[0-9]{9}$\",x)!=nothing);\n"
   ]
  },
  {
   "cell_type": "code",
   "execution_count": 57,
   "metadata": {},
   "outputs": [
    {
     "data": {
      "text/plain": [
       "check (generic function with 1 method)"
      ]
     },
     "execution_count": 57,
     "metadata": {},
     "output_type": "execute_result"
    }
   ],
   "source": [
    "# checking function\n",
    "# with checkcont=ture the content of the fields is checkt\n",
    "function check(needed, passport, checkcont)\n",
    "    for key in needed\n",
    "        found=false\n",
    "        for ppf in passport\n",
    "            if key==ppf[1]\n",
    "                try\n",
    "                    if (checkcont && !validation[key](ppf[2]))\n",
    "                        #print(key, \" \", ppf[2], \"\\n\")\n",
    "                        return false\n",
    "                    end\n",
    "                    found=true\n",
    "                catch e\n",
    "                    #print(e)\n",
    "                    return false\n",
    "                end\n",
    "            end\n",
    "        end\n",
    "        if !found return false end\n",
    "        #if !(key in [passport[i][1] for i in 1:length(passport)])\n",
    "        #    return false\n",
    "        #end\n",
    "    end\n",
    "    return true\n",
    "end\n",
    "    "
   ]
  },
  {
   "cell_type": "code",
   "execution_count": 58,
   "metadata": {},
   "outputs": [
    {
     "data": {
      "text/plain": [
       "readppd (generic function with 1 method)"
      ]
     },
     "execution_count": 58,
     "metadata": {},
     "output_type": "execute_result"
    }
   ],
   "source": [
    "# read data\n",
    "function readppd(file)\n",
    "    batch = open(file) do file\n",
    "        read(file, String)\n",
    "    end\n",
    "    return [[split(b,\":\",) for b in split(a,[' ','\\n'])] for a in split(batch,\"\\n\\n\")]\n",
    "end"
   ]
  },
  {
   "cell_type": "code",
   "execution_count": 67,
   "metadata": {},
   "outputs": [
    {
     "name": "stdout",
     "output_type": "stream",
     "text": [
      "part2:235\n"
     ]
    }
   ],
   "source": [
    "# solution part 1\n",
    "println(\"part2:\",sum([check(needed,pp,false) for pp in readppd(\"AoC04_data.txt\")]))"
   ]
  },
  {
   "cell_type": "code",
   "execution_count": 65,
   "metadata": {},
   "outputs": [
    {
     "name": "stdout",
     "output_type": "stream",
     "text": [
      "4\n",
      "0\n"
     ]
    }
   ],
   "source": [
    "# checking the tests\n",
    "println(sum([check(needed,pp,true) for pp in readppd(\"AoC04_data_s_val.txt\")]))\n",
    "println(sum([check(needed,pp,true) for pp in readppd(\"AoC04_data_s_inval.txt\")]))"
   ]
  },
  {
   "cell_type": "code",
   "execution_count": 64,
   "metadata": {},
   "outputs": [
    {
     "name": "stdout",
     "output_type": "stream",
     "text": [
      "part2:194\n"
     ]
    }
   ],
   "source": [
    "# solution part2\n",
    "println(\"part2:\",sum([check(needed,pp,true) for pp in readppd(\"AoC04_data.txt\")]))"
   ]
  },
  {
   "cell_type": "code",
   "execution_count": null,
   "metadata": {},
   "outputs": [],
   "source": []
  }
 ],
 "metadata": {
  "kernelspec": {
   "display_name": "Julia 1.4.1",
   "language": "julia",
   "name": "julia-1.4"
  },
  "language_info": {
   "file_extension": ".jl",
   "mimetype": "application/julia",
   "name": "julia",
   "version": "1.4.1"
  }
 },
 "nbformat": 4,
 "nbformat_minor": 4
}
